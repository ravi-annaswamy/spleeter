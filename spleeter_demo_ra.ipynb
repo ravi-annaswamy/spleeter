{
  "nbformat": 4,
  "nbformat_minor": 0,
  "metadata": {
    "colab": {
      "name": "spleeter_demo_ra.ipynb",
      "provenance": [],
      "collapsed_sections": [],
      "toc_visible": true,
      "include_colab_link": true
    },
    "kernelspec": {
      "name": "python3",
      "display_name": "Python 3"
    },
    "accelerator": "GPU"
  },
  "cells": [
    {
      "cell_type": "markdown",
      "metadata": {
        "id": "view-in-github",
        "colab_type": "text"
      },
      "source": [
        "<a href=\"https://colab.research.google.com/github/ravi-annaswamy/spleeter/blob/master/spleeter_demo_ra.ipynb\" target=\"_parent\"><img src=\"https://colab.research.google.com/assets/colab-badge.svg\" alt=\"Open In Colab\"/></a>"
      ]
    },
    {
      "cell_type": "markdown",
      "metadata": {
        "id": "jrzBHpDBa2aQ",
        "colab_type": "text"
      },
      "source": [
        "#### Take a song and create 2stem (vocal+karaoke) and 5stem (bass, piano, drums, others, vocal) separations using deep learning model from Deezer-Spleeter."
      ]
    },
    {
      "cell_type": "markdown",
      "metadata": {
        "colab_type": "text",
        "id": "K6mcSc0mmp3i"
      },
      "source": [
        "##### Step 1. Install spleeter and ffmpeg"
      ]
    },
    {
      "cell_type": "code",
      "metadata": {
        "colab_type": "code",
        "id": "f8Brdfh6mzEz",
        "colab": {}
      },
      "source": [
        "!apt install ffmpeg"
      ],
      "execution_count": 0,
      "outputs": []
    },
    {
      "cell_type": "code",
      "metadata": {
        "colab_type": "code",
        "id": "V_6Ram1lmc1F",
        "colab": {}
      },
      "source": [
        "!pip install spleeter"
      ],
      "execution_count": 0,
      "outputs": []
    },
    {
      "cell_type": "code",
      "metadata": {
        "colab_type": "code",
        "id": "W0LktyMypXqE",
        "colab": {}
      },
      "source": [
        "from IPython.display import Audio"
      ],
      "execution_count": 0,
      "outputs": []
    },
    {
      "cell_type": "markdown",
      "metadata": {
        "colab_type": "text",
        "id": "afbcUSken16L"
      },
      "source": [
        "### Step 2. Load song. Here it is Aadum Neram Snippet by Indian Music Maestro Ilayaraja. 1988 Composition.\n",
        "\n",
        "Raja, as he is known, is distiguished by his rich arrangements and profilic output in varied hybrid style."
      ]
    },
    {
      "cell_type": "code",
      "metadata": {
        "colab_type": "code",
        "id": "O1kQaoJSoAD0",
        "colab": {}
      },
      "source": [
        "!wget https://github.com/ravi-annaswamy/spleeter/blob/master/aadum_neram_raja_example.mp3"
      ],
      "execution_count": 0,
      "outputs": []
    },
    {
      "cell_type": "code",
      "metadata": {
        "colab_type": "code",
        "id": "ibG6uF55p4lH",
        "colab": {}
      },
      "source": [
        "Audio('aadum_neram_raja_example.mp3')"
      ],
      "execution_count": 0,
      "outputs": []
    },
    {
      "cell_type": "markdown",
      "metadata": {
        "id": "aP6EQvZRZiIa",
        "colab_type": "text"
      },
      "source": [
        "### Step 3. Create a karaoke separation first (2stem model)"
      ]
    },
    {
      "cell_type": "code",
      "metadata": {
        "id": "2Odxt7q3Zy03",
        "colab_type": "code",
        "colab": {}
      },
      "source": [
        "songname = 'aadum_neram_raja_example'\n",
        "!spleeter separate -i {songname}.mp3 -o output_2stem/ "
      ],
      "execution_count": 0,
      "outputs": []
    },
    {
      "cell_type": "markdown",
      "metadata": {
        "id": "FtzCkBzZPgwW",
        "colab_type": "text"
      },
      "source": [
        "### Step 4. Convert the 2 stems to mp3 high bitrate and audition it."
      ]
    },
    {
      "cell_type": "code",
      "metadata": {
        "id": "NsUDFDfLLNY_",
        "colab_type": "code",
        "colab": {}
      },
      "source": [
        "!ffmpeg -i output_2stem/{songname}/vocals.wav -vn -ar 44100 -ac 2 -b:a 256k output_2stem/{songname}/{songname}_vocals.mp3\n",
        "!ffmpeg -i output_2stem/{songname}/accompaniment.wav -vn -ar 44100 -ac 2 -b:a 256k output_2stem/{songname}/{songname}_karaoke.mp3"
      ],
      "execution_count": 0,
      "outputs": []
    },
    {
      "cell_type": "code",
      "metadata": {
        "id": "xDLl_p999YT8",
        "colab_type": "code",
        "colab": {}
      },
      "source": [
        "Audio('output_2stem/'+songname+'/'+songname+'_vocals.mp3')"
      ],
      "execution_count": 0,
      "outputs": []
    },
    {
      "cell_type": "code",
      "metadata": {
        "id": "8uKyVf0Q9PO0",
        "colab_type": "code",
        "colab": {}
      },
      "source": [
        "Audio('output_2stem/'+songname+'/'+songname+'_karaoke.mp3')"
      ],
      "execution_count": 0,
      "outputs": []
    },
    {
      "cell_type": "markdown",
      "metadata": {
        "id": "JTjd498aPyvu",
        "colab_type": "text"
      },
      "source": [
        "### Step 5. Create 5 stems and evaluate quality of separation to instrumental channels."
      ]
    },
    {
      "cell_type": "code",
      "metadata": {
        "id": "0KWSAA3p8bNw",
        "colab_type": "code",
        "colab": {}
      },
      "source": [
        "!spleeter separate -i {songname}.mp3 -o output_5stems -p spleeter:5stems"
      ],
      "execution_count": 0,
      "outputs": []
    },
    {
      "cell_type": "code",
      "metadata": {
        "id": "OYJ8-BFd9uud",
        "colab_type": "code",
        "colab": {}
      },
      "source": [
        "!ls output_5stems/{songname}"
      ],
      "execution_count": 0,
      "outputs": []
    },
    {
      "cell_type": "code",
      "metadata": {
        "id": "8ZPoHSLwFQk_",
        "colab_type": "code",
        "colab": {}
      },
      "source": [
        "!ffmpeg -hide_banner -i output_5stems/{songname}/vocals.wav -vn -ar 44100 -ac 2 -b:a 256k output_5stems/{songname}/{songname}_5s_vocals.mp3\n",
        "!ffmpeg -hide_banner -i output_5stems/{songname}/drums.wav -vn -ar 44100 -ac 2 -b:a 256k output_5stems/{songname}/{songname}_5s_drums.mp3\n",
        "!ffmpeg -hide_banner -i output_5stems/{songname}/other.wav -vn -ar 44100 -ac 2 -b:a 256k output_5stems/{songname}/{songname}_5s_other.mp3\n",
        "!ffmpeg -hide_banner -i output_5stems/{songname}/piano.wav -vn -ar 44100 -ac 2 -b:a 256k output_5stems/{songname}/{songname}_5s_piano.mp3\n",
        "!ffmpeg -hide_banner -i output_5stems/{songname}/bass.wav -vn -ar 44100 -ac 2 -b:a 256k output_5stems/{songname}/{songname}_5s_bass.mp3"
      ],
      "execution_count": 0,
      "outputs": []
    },
    {
      "cell_type": "code",
      "metadata": {
        "id": "wKaOtesQGXUO",
        "colab_type": "code",
        "colab": {}
      },
      "source": [
        "!ls output_5stems/{songname}/*.mp3"
      ],
      "execution_count": 0,
      "outputs": []
    },
    {
      "cell_type": "code",
      "metadata": {
        "id": "7H4RZYhU-4f0",
        "colab_type": "code",
        "colab": {}
      },
      "source": [
        "Audio('output_5stems/'+songname+'/'+songname+'_5s_bass.mp3')"
      ],
      "execution_count": 0,
      "outputs": []
    },
    {
      "cell_type": "code",
      "metadata": {
        "id": "WFsCW_o4-9gn",
        "colab_type": "code",
        "colab": {}
      },
      "source": [
        "Audio('output_5stems/'+songname+'/'+songname+'_5s_drums.mp3')"
      ],
      "execution_count": 0,
      "outputs": []
    },
    {
      "cell_type": "code",
      "metadata": {
        "id": "J2LeoRzrHHSX",
        "colab_type": "code",
        "colab": {}
      },
      "source": [
        "Audio('output_5stems/'+songname+'/'+songname+'_5s_piano.mp3')"
      ],
      "execution_count": 0,
      "outputs": []
    },
    {
      "cell_type": "code",
      "metadata": {
        "id": "C_f4A3jYHI6w",
        "colab_type": "code",
        "colab": {}
      },
      "source": [
        "Audio('output_5stems/'+songname+'/'+songname+'_5s_other.mp3')"
      ],
      "execution_count": 0,
      "outputs": []
    },
    {
      "cell_type": "code",
      "metadata": {
        "id": "9_6A0Qm8HKYc",
        "colab_type": "code",
        "colab": {}
      },
      "source": [
        "Audio('output_5stems/'+songname+'/'+songname+'_5s_vocals.mp3')"
      ],
      "execution_count": 0,
      "outputs": []
    },
    {
      "cell_type": "markdown",
      "metadata": {
        "id": "UpkLXtQRavsd",
        "colab_type": "text"
      },
      "source": [
        "# Observations"
      ]
    },
    {
      "cell_type": "code",
      "metadata": {
        "id": "8zpP_Wp7awlk",
        "colab_type": "code",
        "colab": {}
      },
      "source": [
        ""
      ],
      "execution_count": 0,
      "outputs": []
    }
  ]
}